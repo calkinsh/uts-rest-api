{
 "cells": [
  {
   "cell_type": "code",
   "execution_count": 5,
   "id": "43ae436c",
   "metadata": {},
   "outputs": [],
   "source": [
    "import pandas as pd\n"
   ]
  },
  {
   "cell_type": "code",
   "execution_count": 6,
   "id": "a0554373",
   "metadata": {},
   "outputs": [
    {
     "data": {
      "text/html": [
       "<div>\n",
       "<style scoped>\n",
       "    .dataframe tbody tr th:only-of-type {\n",
       "        vertical-align: middle;\n",
       "    }\n",
       "\n",
       "    .dataframe tbody tr th {\n",
       "        vertical-align: top;\n",
       "    }\n",
       "\n",
       "    .dataframe thead th {\n",
       "        text-align: right;\n",
       "    }\n",
       "</style>\n",
       "<table border=\"1\" class=\"dataframe\">\n",
       "  <thead>\n",
       "    <tr style=\"text-align: right;\">\n",
       "      <th></th>\n",
       "      <th>variable_name</th>\n",
       "      <th>permissible_values</th>\n",
       "      <th>permissible_value_descriptions</th>\n",
       "    </tr>\n",
       "  </thead>\n",
       "  <tbody>\n",
       "    <tr>\n",
       "      <th>0</th>\n",
       "      <td>AgeYrs</td>\n",
       "      <td>NaN</td>\n",
       "      <td>NaN</td>\n",
       "    </tr>\n",
       "    <tr>\n",
       "      <th>1</th>\n",
       "      <td>BirthCntryISOCode</td>\n",
       "      <td>AD;AE;AF;AG;AI;AL;AM;AO;AQ;AR;AS;AT;AU;AW;AX;A...</td>\n",
       "      <td>ANDORRA;UNITED ARAB EMIRATES;AFGHANISTAN;ANTIG...</td>\n",
       "    </tr>\n",
       "    <tr>\n",
       "      <th>2</th>\n",
       "      <td>BirthCntryName</td>\n",
       "      <td>NaN</td>\n",
       "      <td>NaN</td>\n",
       "    </tr>\n",
       "    <tr>\n",
       "      <th>3</th>\n",
       "      <td>BirthDate</td>\n",
       "      <td>NaN</td>\n",
       "      <td>NaN</td>\n",
       "    </tr>\n",
       "    <tr>\n",
       "      <th>4</th>\n",
       "      <td>CaregvPrimryExtendOTH</td>\n",
       "      <td>NaN</td>\n",
       "      <td>NaN</td>\n",
       "    </tr>\n",
       "    <tr>\n",
       "      <th>...</th>\n",
       "      <td>...</td>\n",
       "      <td>...</td>\n",
       "      <td>...</td>\n",
       "    </tr>\n",
       "    <tr>\n",
       "      <th>111</th>\n",
       "      <td>SubjectCohabitCt</td>\n",
       "      <td>NaN</td>\n",
       "      <td>NaN</td>\n",
       "    </tr>\n",
       "    <tr>\n",
       "      <th>112</th>\n",
       "      <td>SubjectIDNum</td>\n",
       "      <td>NaN</td>\n",
       "      <td>NaN</td>\n",
       "    </tr>\n",
       "    <tr>\n",
       "      <th>113</th>\n",
       "      <td>TBISportInd</td>\n",
       "      <td>No;Unknown;Yes</td>\n",
       "      <td>No;Unknown;Yes</td>\n",
       "    </tr>\n",
       "    <tr>\n",
       "      <th>114</th>\n",
       "      <td>UnemplymntRsn</td>\n",
       "      <td>NaN</td>\n",
       "      <td>NaN</td>\n",
       "    </tr>\n",
       "    <tr>\n",
       "      <th>115</th>\n",
       "      <td>VisitDate</td>\n",
       "      <td>NaN</td>\n",
       "      <td>NaN</td>\n",
       "    </tr>\n",
       "  </tbody>\n",
       "</table>\n",
       "<p>116 rows × 3 columns</p>\n",
       "</div>"
      ],
      "text/plain": [
       "             variable_name                                 permissible_values  \\\n",
       "0                   AgeYrs                                                NaN   \n",
       "1        BirthCntryISOCode  AD;AE;AF;AG;AI;AL;AM;AO;AQ;AR;AS;AT;AU;AW;AX;A...   \n",
       "2           BirthCntryName                                                NaN   \n",
       "3                BirthDate                                                NaN   \n",
       "4    CaregvPrimryExtendOTH                                                NaN   \n",
       "..                     ...                                                ...   \n",
       "111       SubjectCohabitCt                                                NaN   \n",
       "112           SubjectIDNum                                                NaN   \n",
       "113            TBISportInd                                     No;Unknown;Yes   \n",
       "114          UnemplymntRsn                                                NaN   \n",
       "115              VisitDate                                                NaN   \n",
       "\n",
       "                        permissible_value_descriptions  \n",
       "0                                                  NaN  \n",
       "1    ANDORRA;UNITED ARAB EMIRATES;AFGHANISTAN;ANTIG...  \n",
       "2                                                  NaN  \n",
       "3                                                  NaN  \n",
       "4                                                  NaN  \n",
       "..                                                 ...  \n",
       "111                                                NaN  \n",
       "112                                                NaN  \n",
       "113                                     No;Unknown;Yes  \n",
       "114                                                NaN  \n",
       "115                                                NaN  \n",
       "\n",
       "[116 rows x 3 columns]"
      ]
     },
     "execution_count": 6,
     "metadata": {},
     "output_type": "execute_result"
    }
   ],
   "source": [
    "baseData=pd.read_csv(\"/Users/hancalki/Documents/UMLS Mappings/FITBIR_demographics_mapping_explode2.csv\")\n",
    "baseData"
   ]
  },
  {
   "cell_type": "code",
   "execution_count": 7,
   "id": "19d8f836",
   "metadata": {},
   "outputs": [],
   "source": [
    "#this step is unnecessary to the end result\n",
    "\n",
    "#new_df=(baseData.set_index(baseData.columns.drop('permissible_values',1).tolist())\n",
    "#   ...:    .permissible_values.str.split(';', expand=True)\n",
    "#   ...:    .stack()\n",
    "#   ...:    .reset_index()\n",
    "#   ...:    .rename(columns={0:'permissible_values'})\n",
    "#   ...:    .loc[:, baseData.columns]\n",
    "#   ...: )"
   ]
  },
  {
   "cell_type": "code",
   "execution_count": 8,
   "id": "df542b44",
   "metadata": {},
   "outputs": [],
   "source": [
    "#create a new dataframe with one row per value found in the permissible value description list.  Split list on \n",
    "# semicolon \";\" delimiter\n",
    "new_df2=(baseData.set_index(baseData.columns.drop('permissible_value_descriptions',1).tolist())\n",
    "   ...:    .permissible_value_descriptions.str.split(';', expand=True)\n",
    "   ...:    .stack()\n",
    "   ...:    .reset_index()\n",
    "   ...:    .rename(columns={0:'permissible_value_descriptions'})\n",
    "   ...:    .loc[:, baseData.columns]\n",
    "   ...: )"
   ]
  },
  {
   "cell_type": "code",
   "execution_count": 36,
   "id": "3df22f32",
   "metadata": {},
   "outputs": [
    {
     "data": {
      "text/html": [
       "<div>\n",
       "<style scoped>\n",
       "    .dataframe tbody tr th:only-of-type {\n",
       "        vertical-align: middle;\n",
       "    }\n",
       "\n",
       "    .dataframe tbody tr th {\n",
       "        vertical-align: top;\n",
       "    }\n",
       "\n",
       "    .dataframe thead th {\n",
       "        text-align: right;\n",
       "    }\n",
       "</style>\n",
       "<table border=\"1\" class=\"dataframe\">\n",
       "  <thead>\n",
       "    <tr style=\"text-align: right;\">\n",
       "      <th></th>\n",
       "      <th>variable_name</th>\n",
       "      <th>permissible_values</th>\n",
       "      <th>permissible_value_descriptions</th>\n",
       "    </tr>\n",
       "  </thead>\n",
       "  <tbody>\n",
       "  </tbody>\n",
       "</table>\n",
       "</div>"
      ],
      "text/plain": [
       "Empty DataFrame\n",
       "Columns: [variable_name, permissible_values, permissible_value_descriptions]\n",
       "Index: []"
      ]
     },
     "execution_count": 36,
     "metadata": {},
     "output_type": "execute_result"
    }
   ],
   "source": [
    "#the merge as shown below will not work.  It will result in a cross join.  If needed, these frames \n",
    "#can be joined on the index instead but ultimately the description is what's needed for a lookup within the UMLS\n",
    "#so it is not necessary to 'explode' the permissible value list, only the permissible value description list\n",
    "\n",
    "#pd.merge(new_df, new_df2,how=\"inner\") "
   ]
  },
  {
   "cell_type": "code",
   "execution_count": 9,
   "id": "bcd3a23d",
   "metadata": {},
   "outputs": [],
   "source": [
    "#write new dataframe to a csv for use elsewhere\n",
    "\n",
    "new_df2.to_csv(\"/Users/hancalki/Documents/UMLS Mappings/FITBIR_demographics_mapping_explode_new2.csv\")"
   ]
  }
 ],
 "metadata": {
  "kernelspec": {
   "display_name": "Python 3 (ipykernel)",
   "language": "python",
   "name": "python3"
  },
  "language_info": {
   "codemirror_mode": {
    "name": "ipython",
    "version": 3
   },
   "file_extension": ".py",
   "mimetype": "text/x-python",
   "name": "python",
   "nbconvert_exporter": "python",
   "pygments_lexer": "ipython3",
   "version": "3.9.7"
  }
 },
 "nbformat": 4,
 "nbformat_minor": 5
}
